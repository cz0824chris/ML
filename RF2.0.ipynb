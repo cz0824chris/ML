{
 "cells": [
  {
   "cell_type": "code",
   "execution_count": 2,
   "metadata": {},
   "outputs": [],
   "source": [
    "import pandas as pd\n",
    "data= pd.read_csv(\"Data1.csv\",usecols=[0,1,3,5,7,9,11,13,15,17,19,21,23,27])"
   ]
  },
  {
   "cell_type": "code",
   "execution_count": 3,
   "metadata": {},
   "outputs": [
    {
     "data": {
      "text/html": [
       "<div>\n",
       "<style scoped>\n",
       "    .dataframe tbody tr th:only-of-type {\n",
       "        vertical-align: middle;\n",
       "    }\n",
       "\n",
       "    .dataframe tbody tr th {\n",
       "        vertical-align: top;\n",
       "    }\n",
       "\n",
       "    .dataframe thead th {\n",
       "        text-align: right;\n",
       "    }\n",
       "</style>\n",
       "<table border=\"1\" class=\"dataframe\">\n",
       "  <thead>\n",
       "    <tr style=\"text-align: right;\">\n",
       "      <th></th>\n",
       "      <th>Front Bearing D</th>\n",
       "      <th>Front Bearing C</th>\n",
       "      <th>Inner Housing Front</th>\n",
       "      <th>Inner Housing Mid</th>\n",
       "      <th>Inner Housing Back</th>\n",
       "      <th>Back Bearing B</th>\n",
       "      <th>Back Bearing A</th>\n",
       "      <th>HousingA</th>\n",
       "      <th>HousingB</th>\n",
       "      <th>Support</th>\n",
       "      <th>Room Temperature</th>\n",
       "      <th>Speed</th>\n",
       "    </tr>\n",
       "  </thead>\n",
       "  <tbody>\n",
       "    <tr>\n",
       "      <th>0</th>\n",
       "      <td>30.28</td>\n",
       "      <td>30.25</td>\n",
       "      <td>30.30</td>\n",
       "      <td>30.17</td>\n",
       "      <td>30.13</td>\n",
       "      <td>30.35</td>\n",
       "      <td>30.12</td>\n",
       "      <td>30.03</td>\n",
       "      <td>30.42</td>\n",
       "      <td>28.2</td>\n",
       "      <td>29.83</td>\n",
       "      <td>3000</td>\n",
       "    </tr>\n",
       "    <tr>\n",
       "      <th>1</th>\n",
       "      <td>30.47</td>\n",
       "      <td>30.27</td>\n",
       "      <td>30.39</td>\n",
       "      <td>30.05</td>\n",
       "      <td>29.96</td>\n",
       "      <td>30.26</td>\n",
       "      <td>30.29</td>\n",
       "      <td>30.05</td>\n",
       "      <td>30.32</td>\n",
       "      <td>28.3</td>\n",
       "      <td>29.89</td>\n",
       "      <td>3000</td>\n",
       "    </tr>\n",
       "    <tr>\n",
       "      <th>2</th>\n",
       "      <td>30.18</td>\n",
       "      <td>30.31</td>\n",
       "      <td>29.99</td>\n",
       "      <td>30.13</td>\n",
       "      <td>29.98</td>\n",
       "      <td>30.20</td>\n",
       "      <td>30.25</td>\n",
       "      <td>30.15</td>\n",
       "      <td>30.24</td>\n",
       "      <td>28.3</td>\n",
       "      <td>29.91</td>\n",
       "      <td>3000</td>\n",
       "    </tr>\n",
       "    <tr>\n",
       "      <th>3</th>\n",
       "      <td>30.08</td>\n",
       "      <td>30.29</td>\n",
       "      <td>30.45</td>\n",
       "      <td>30.38</td>\n",
       "      <td>30.22</td>\n",
       "      <td>30.19</td>\n",
       "      <td>30.24</td>\n",
       "      <td>29.85</td>\n",
       "      <td>30.67</td>\n",
       "      <td>28.3</td>\n",
       "      <td>30.02</td>\n",
       "      <td>3000</td>\n",
       "    </tr>\n",
       "    <tr>\n",
       "      <th>4</th>\n",
       "      <td>30.46</td>\n",
       "      <td>30.09</td>\n",
       "      <td>29.86</td>\n",
       "      <td>30.04</td>\n",
       "      <td>29.92</td>\n",
       "      <td>30.41</td>\n",
       "      <td>30.38</td>\n",
       "      <td>30.25</td>\n",
       "      <td>30.55</td>\n",
       "      <td>28.2</td>\n",
       "      <td>29.90</td>\n",
       "      <td>3000</td>\n",
       "    </tr>\n",
       "    <tr>\n",
       "      <th>...</th>\n",
       "      <td>...</td>\n",
       "      <td>...</td>\n",
       "      <td>...</td>\n",
       "      <td>...</td>\n",
       "      <td>...</td>\n",
       "      <td>...</td>\n",
       "      <td>...</td>\n",
       "      <td>...</td>\n",
       "      <td>...</td>\n",
       "      <td>...</td>\n",
       "      <td>...</td>\n",
       "      <td>...</td>\n",
       "    </tr>\n",
       "    <tr>\n",
       "      <th>14505</th>\n",
       "      <td>30.36</td>\n",
       "      <td>30.45</td>\n",
       "      <td>30.30</td>\n",
       "      <td>30.33</td>\n",
       "      <td>30.22</td>\n",
       "      <td>30.46</td>\n",
       "      <td>30.36</td>\n",
       "      <td>30.28</td>\n",
       "      <td>30.52</td>\n",
       "      <td>28.1</td>\n",
       "      <td>30.18</td>\n",
       "      <td>1</td>\n",
       "    </tr>\n",
       "    <tr>\n",
       "      <th>14506</th>\n",
       "      <td>30.36</td>\n",
       "      <td>30.46</td>\n",
       "      <td>30.30</td>\n",
       "      <td>30.32</td>\n",
       "      <td>30.22</td>\n",
       "      <td>30.46</td>\n",
       "      <td>30.36</td>\n",
       "      <td>30.29</td>\n",
       "      <td>30.51</td>\n",
       "      <td>28.1</td>\n",
       "      <td>30.18</td>\n",
       "      <td>1</td>\n",
       "    </tr>\n",
       "    <tr>\n",
       "      <th>14507</th>\n",
       "      <td>30.36</td>\n",
       "      <td>30.46</td>\n",
       "      <td>30.30</td>\n",
       "      <td>30.33</td>\n",
       "      <td>30.22</td>\n",
       "      <td>30.46</td>\n",
       "      <td>30.36</td>\n",
       "      <td>30.29</td>\n",
       "      <td>30.51</td>\n",
       "      <td>28.1</td>\n",
       "      <td>30.18</td>\n",
       "      <td>1</td>\n",
       "    </tr>\n",
       "    <tr>\n",
       "      <th>14508</th>\n",
       "      <td>30.36</td>\n",
       "      <td>30.46</td>\n",
       "      <td>30.30</td>\n",
       "      <td>30.33</td>\n",
       "      <td>30.22</td>\n",
       "      <td>30.45</td>\n",
       "      <td>30.36</td>\n",
       "      <td>30.28</td>\n",
       "      <td>30.52</td>\n",
       "      <td>28.1</td>\n",
       "      <td>30.17</td>\n",
       "      <td>1</td>\n",
       "    </tr>\n",
       "    <tr>\n",
       "      <th>14509</th>\n",
       "      <td>30.36</td>\n",
       "      <td>30.46</td>\n",
       "      <td>30.30</td>\n",
       "      <td>30.33</td>\n",
       "      <td>30.21</td>\n",
       "      <td>30.46</td>\n",
       "      <td>30.36</td>\n",
       "      <td>30.29</td>\n",
       "      <td>30.52</td>\n",
       "      <td>28.1</td>\n",
       "      <td>30.17</td>\n",
       "      <td>1</td>\n",
       "    </tr>\n",
       "  </tbody>\n",
       "</table>\n",
       "<p>14510 rows × 12 columns</p>\n",
       "</div>"
      ],
      "text/plain": [
       "       Front Bearing D  Front Bearing C  Inner Housing Front  \\\n",
       "0                30.28            30.25                30.30   \n",
       "1                30.47            30.27                30.39   \n",
       "2                30.18            30.31                29.99   \n",
       "3                30.08            30.29                30.45   \n",
       "4                30.46            30.09                29.86   \n",
       "...                ...              ...                  ...   \n",
       "14505            30.36            30.45                30.30   \n",
       "14506            30.36            30.46                30.30   \n",
       "14507            30.36            30.46                30.30   \n",
       "14508            30.36            30.46                30.30   \n",
       "14509            30.36            30.46                30.30   \n",
       "\n",
       "       Inner Housing Mid  Inner Housing Back  Back Bearing B  Back Bearing A  \\\n",
       "0                  30.17               30.13           30.35           30.12   \n",
       "1                  30.05               29.96           30.26           30.29   \n",
       "2                  30.13               29.98           30.20           30.25   \n",
       "3                  30.38               30.22           30.19           30.24   \n",
       "4                  30.04               29.92           30.41           30.38   \n",
       "...                  ...                 ...             ...             ...   \n",
       "14505              30.33               30.22           30.46           30.36   \n",
       "14506              30.32               30.22           30.46           30.36   \n",
       "14507              30.33               30.22           30.46           30.36   \n",
       "14508              30.33               30.22           30.45           30.36   \n",
       "14509              30.33               30.21           30.46           30.36   \n",
       "\n",
       "       HousingA  HousingB  Support  Room Temperature  Speed  \n",
       "0         30.03     30.42     28.2             29.83   3000  \n",
       "1         30.05     30.32     28.3             29.89   3000  \n",
       "2         30.15     30.24     28.3             29.91   3000  \n",
       "3         29.85     30.67     28.3             30.02   3000  \n",
       "4         30.25     30.55     28.2             29.90   3000  \n",
       "...         ...       ...      ...               ...    ...  \n",
       "14505     30.28     30.52     28.1             30.18      1  \n",
       "14506     30.29     30.51     28.1             30.18      1  \n",
       "14507     30.29     30.51     28.1             30.18      1  \n",
       "14508     30.28     30.52     28.1             30.17      1  \n",
       "14509     30.29     30.52     28.1             30.17      1  \n",
       "\n",
       "[14510 rows x 12 columns]"
      ]
     },
     "execution_count": 3,
     "metadata": {},
     "output_type": "execute_result"
    }
   ],
   "source": [
    "#將時間還有變形量移除\n",
    "data2= pd.read_csv(\"Data1.csv\",usecols=[1,3,5,7,9,11,13,15,17,19,21,27])\n",
    "data2"
   ]
  },
  {
   "cell_type": "code",
   "execution_count": 8,
   "metadata": {},
   "outputs": [],
   "source": [
    "from sklearn.ensemble import RandomForestClassifier\n",
    "from sklearn.model_selection import train_test_split\n",
    "import matplotlib.pyplot as plt\n",
    "%matplotlib inline"
   ]
  },
  {
   "cell_type": "code",
   "execution_count": 9,
   "metadata": {},
   "outputs": [
    {
     "data": {
      "image/png": "[encoded data removed]",
      "text/plain": [
       "<Figure size 1440x1080 with 16 Axes>"
      ]
     },
     "metadata": {
      "needs_background": "light"
     },
     "output_type": "display_data"
    }
   ],
   "source": [
    "data.hist(bins=50,figsize=(20,15))\n",
    "plt.show()"
   ]
  },
  {
   "cell_type": "code",
   "execution_count": 10,
   "metadata": {},
   "outputs": [],
   "source": [
    "import numpy as np\n",
    "np.random.seed(42)"
   ]
  },
  {
   "cell_type": "code",
   "execution_count": 25,
   "metadata": {},
   "outputs": [
    {
     "data": {
      "text/plain": [
       "0       -0.11\n",
       "1       -5.16\n",
       "2       -5.98\n",
       "3       -6.22\n",
       "4       -6.22\n",
       "         ... \n",
       "14505   -5.95\n",
       "14506   -5.90\n",
       "14507   -5.86\n",
       "14508   -5.77\n",
       "14509   -5.69\n",
       "Name: Deformation, Length: 14510, dtype: float64"
      ]
     },
     "execution_count": 25,
     "metadata": {},
     "output_type": "execute_result"
    }
   ],
   "source": [
    "x=data2.astype('float')\n",
    "y=data.Deformation"
   ]
  },
  {
   "cell_type": "code",
   "execution_count": 21,
   "metadata": {},
   "outputs": [],
   "source": [
    "x_train,x_test,y_train,y_test=train_test_split(x,y,test_size=0.25)"
   ]
  },
  {
   "cell_type": "code",
   "execution_count": 26,
   "metadata": {
    "scrolled": false
   },
   "outputs": [
    {
     "data": {
      "text/plain": [
       "RandomForestClassifier(min_samples_leaf=100, n_estimators=500, random_state=42)"
      ]
     },
     "execution_count": 26,
     "metadata": {},
     "output_type": "execute_result"
    }
   ],
   "source": [
    "rfc=RandomForestClassifier(n_estimators=500,criterion='gini',random_state=42,min_samples_leaf = 100,min_samples_split=2)\n",
    "rfc.fit(x_train,y_train.astype('int'))"
   ]
  },
  {
   "cell_type": "code",
   "execution_count": 14,
   "metadata": {},
   "outputs": [
    {
     "data": {
      "text/plain": [
       "array([-6,  2, -5, ..., -2, -6,  0])"
      ]
     },
     "execution_count": 14,
     "metadata": {},
     "output_type": "execute_result"
    }
   ],
   "source": [
    "y_predict=rfc.predict(x_test)\n",
    "y_predict"
   ]
  },
  {
   "cell_type": "code",
   "execution_count": 16,
   "metadata": {
    "scrolled": true
   },
   "outputs": [
    {
     "data": {
      "text/plain": [
       "0.8759647188533627"
      ]
     },
     "execution_count": 16,
     "metadata": {},
     "output_type": "execute_result"
    }
   ],
   "source": [
    "rfc.score(x_test,y_test.astype('int'))"
   ]
  },
  {
   "cell_type": "code",
   "execution_count": 36,
   "metadata": {},
   "outputs": [
    {
     "name": "stdout",
     "output_type": "stream",
     "text": [
      "Mean Absolute Error: 0.57 degrees.\n"
     ]
    }
   ],
   "source": [
    "errors = abs(y_predict - y_test)\n",
    "print('Mean Absolute Error:', round(np.mean(errors), 2), 'degrees.')"
   ]
  },
  {
   "cell_type": "code",
   "execution_count": 37,
   "metadata": {},
   "outputs": [],
   "source": [
    "imp=rfc.feature_importances_"
   ]
  },
  {
   "cell_type": "code",
   "execution_count": 38,
   "metadata": {},
   "outputs": [
    {
     "data": {
      "text/plain": [
       "array([0.11201431, 0.10924634, 0.02892595, 0.07066025, 0.07081412,\n",
       "       0.11855361, 0.11735845, 0.08099604, 0.09448663, 0.05508748,\n",
       "       0.07206572, 0.06979111])"
      ]
     },
     "execution_count": 38,
     "metadata": {},
     "output_type": "execute_result"
    }
   ],
   "source": [
    "imp"
   ]
  },
  {
   "cell_type": "code",
   "execution_count": 39,
   "metadata": {},
   "outputs": [
    {
     "data": {
      "text/html": [
       "<div>\n",
       "<style scoped>\n",
       "    .dataframe tbody tr th:only-of-type {\n",
       "        vertical-align: middle;\n",
       "    }\n",
       "\n",
       "    .dataframe tbody tr th {\n",
       "        vertical-align: top;\n",
       "    }\n",
       "\n",
       "    .dataframe thead th {\n",
       "        text-align: right;\n",
       "    }\n",
       "</style>\n",
       "<table border=\"1\" class=\"dataframe\">\n",
       "  <thead>\n",
       "    <tr style=\"text-align: right;\">\n",
       "      <th></th>\n",
       "      <th>Front Bearing D</th>\n",
       "      <th>Front Bearing C</th>\n",
       "      <th>Inner Housing Front</th>\n",
       "      <th>Inner Housing Mid</th>\n",
       "      <th>Inner Housing Back</th>\n",
       "      <th>Back Bearing B</th>\n",
       "      <th>Back Bearing A</th>\n",
       "      <th>HousingA</th>\n",
       "      <th>HousingB</th>\n",
       "      <th>Support</th>\n",
       "      <th>Room Temperature</th>\n",
       "      <th>Speed</th>\n",
       "    </tr>\n",
       "  </thead>\n",
       "  <tbody>\n",
       "  </tbody>\n",
       "</table>\n",
       "</div>"
      ],
      "text/plain": [
       "Empty DataFrame\n",
       "Columns: [Front Bearing D, Front Bearing C, Inner Housing Front, Inner Housing Mid, Inner Housing Back, Back Bearing B, Back Bearing A, HousingA, HousingB, Support, Room Temperature, Speed]\n",
       "Index: []"
      ]
     },
     "execution_count": 39,
     "metadata": {},
     "output_type": "execute_result"
    }
   ],
   "source": [
    "names=data2[0:0]\n",
    "names"
   ]
  },
  {
   "cell_type": "code",
   "execution_count": 40,
   "metadata": {
    "scrolled": false
   },
   "outputs": [
    {
     "data": {
      "text/plain": [
       "<function matplotlib.pyplot.show(*args, **kw)>"
      ]
     },
     "execution_count": 40,
     "metadata": {},
     "output_type": "execute_result"
    },
    {
     "data": {
      "image/png": "[encoded data removed]",
      "text/plain": [
       "<Figure size 432x288 with 1 Axes>"
      ]
     },
     "metadata": {
      "needs_background": "light"
     },
     "output_type": "display_data"
    }
   ],
   "source": [
    "zip(imp,names)\n",
    "imp, names=zip(*sorted(zip(imp,names)))\n",
    "plt.barh(range(len(names)),imp,align='center')\n",
    "plt.yticks(range(len(names)),names)\n",
    "plt.xlabel('Importance of Features')\n",
    "plt.ylabel('Features')\n",
    "plt.title('Importance of each Feature')\n",
    "plt.show"
   ]
  },
  {
   "cell_type": "code",
   "execution_count": 41,
   "metadata": {},
   "outputs": [],
   "source": [
    "#from sklearn.ensemble import RandomForestRegressor\n",
    "#model=RandomForestRegressor()\n",
    "#predict=model.fit(x_train,y_train).predict(x_test)\n",
    "#predict"
   ]
  },
  {
   "cell_type": "code",
   "execution_count": 42,
   "metadata": {},
   "outputs": [],
   "source": [
    "#model.score(x_test,y_test.astype('int'))"
   ]
  },
  {
   "cell_type": "code",
   "execution_count": 43,
   "metadata": {},
   "outputs": [
    {
     "name": "stdout",
     "output_type": "stream",
     "text": [
      "[-6]\n"
     ]
    }
   ],
   "source": [
    "X_new = [[30.67,30.31,30.09,30.33,30.04,30.24,30.5,30.35,30.35,28.3,30.03,3000]]  # Cyprus' GDP per capita\n",
    "print(rfc.predict(X_new))"
   ]
  },
  {
   "cell_type": "code",
   "execution_count": 44,
   "metadata": {},
   "outputs": [
    {
     "name": "stdout",
     "output_type": "stream",
     "text": [
      "[1]\n"
     ]
    }
   ],
   "source": [
    "X_new = [[31.12,30.92,30.9,30.62,30.98,31.15,30.98,30.55,31.27,28.3,30.09,3000]]\n",
    "print(rfc.predict(X_new))"
   ]
  },
  {
   "cell_type": "code",
   "execution_count": null,
   "metadata": {},
   "outputs": [],
   "source": []
  },
  {
   "cell_type": "code",
   "execution_count": null,
   "metadata": {},
   "outputs": [],
   "source": []
  }
 ],
 "metadata": {
  "kernelspec": {
   "display_name": "Python 3",
   "language": "python",
   "name": "python3"
  },
  "language_info": {
   "codemirror_mode": {
    "name": "ipython",
    "version": 3
   },
   "file_extension": ".py",
   "mimetype": "text/x-python",
   "name": "python",
   "nbconvert_exporter": "python",
   "pygments_lexer": "ipython3",
   "version": "3.8.3"
  }
 },
 "nbformat": 4,
 "nbformat_minor": 4
}
