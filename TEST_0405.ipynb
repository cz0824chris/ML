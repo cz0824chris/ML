{
 "cells": [
  {
   "cell_type": "code",
   "execution_count": 6,
   "metadata": {},
   "outputs": [],
   "source": [
    "import pandas as pd\n",
    "data= pd.read_csv(\"Data_all.csv\",usecols=[0,1,3,5,7,9,11,13,15,17,19,21,23,27])\n",
    "#將時間還有變形量移除\n",
    "data2= pd.read_csv(\"Data_all.csv\",usecols=[1,3,5,7,9,11,13,15,17,19,21,27])\n",
    "#from sklearn.ensemble import RandomForestClassifier\n",
    "from sklearn.model_selection import train_test_split\n",
    "import matplotlib.pyplot as plt\n",
    "%matplotlib inline"
   ]
  },
  {
   "cell_type": "code",
   "execution_count": 49,
   "metadata": {},
   "outputs": [
    {
     "data": {
      "text/html": [
       "<div>\n",
       "<style scoped>\n",
       "    .dataframe tbody tr th:only-of-type {\n",
       "        vertical-align: middle;\n",
       "    }\n",
       "\n",
       "    .dataframe tbody tr th {\n",
       "        vertical-align: top;\n",
       "    }\n",
       "\n",
       "    .dataframe thead th {\n",
       "        text-align: right;\n",
       "    }\n",
       "</style>\n",
       "<table border=\"1\" class=\"dataframe\">\n",
       "  <thead>\n",
       "    <tr style=\"text-align: right;\">\n",
       "      <th></th>\n",
       "      <th>Front Bearing D</th>\n",
       "      <th>Front Bearing C</th>\n",
       "      <th>Inner Housing Front</th>\n",
       "      <th>Inner Housing Mid</th>\n",
       "      <th>Inner Housing Back</th>\n",
       "      <th>Back Bearing B</th>\n",
       "      <th>Back Bearing A</th>\n",
       "      <th>HousingA</th>\n",
       "      <th>HousingB</th>\n",
       "      <th>Support</th>\n",
       "      <th>Room Temperature</th>\n",
       "      <th>Speed</th>\n",
       "    </tr>\n",
       "  </thead>\n",
       "  <tbody>\n",
       "    <tr>\n",
       "      <th>97411</th>\n",
       "      <td>31.17</td>\n",
       "      <td>31.27</td>\n",
       "      <td>31.11</td>\n",
       "      <td>31.14</td>\n",
       "      <td>31.03</td>\n",
       "      <td>31.27</td>\n",
       "      <td>31.19</td>\n",
       "      <td>31.01</td>\n",
       "      <td>31.23</td>\n",
       "      <td>28.6</td>\n",
       "      <td>30.56</td>\n",
       "      <td>1</td>\n",
       "    </tr>\n",
       "    <tr>\n",
       "      <th>86123</th>\n",
       "      <td>39.16</td>\n",
       "      <td>39.97</td>\n",
       "      <td>40.12</td>\n",
       "      <td>41.05</td>\n",
       "      <td>41.82</td>\n",
       "      <td>43.16</td>\n",
       "      <td>43.02</td>\n",
       "      <td>39.37</td>\n",
       "      <td>36.44</td>\n",
       "      <td>29.7</td>\n",
       "      <td>31.68</td>\n",
       "      <td>7000</td>\n",
       "    </tr>\n",
       "    <tr>\n",
       "      <th>93418</th>\n",
       "      <td>32.44</td>\n",
       "      <td>32.55</td>\n",
       "      <td>32.40</td>\n",
       "      <td>32.47</td>\n",
       "      <td>32.35</td>\n",
       "      <td>32.61</td>\n",
       "      <td>32.55</td>\n",
       "      <td>31.90</td>\n",
       "      <td>32.04</td>\n",
       "      <td>28.5</td>\n",
       "      <td>30.10</td>\n",
       "      <td>1</td>\n",
       "    </tr>\n",
       "    <tr>\n",
       "      <th>66081</th>\n",
       "      <td>36.67</td>\n",
       "      <td>37.47</td>\n",
       "      <td>37.33</td>\n",
       "      <td>38.34</td>\n",
       "      <td>38.81</td>\n",
       "      <td>39.90</td>\n",
       "      <td>39.81</td>\n",
       "      <td>36.62</td>\n",
       "      <td>34.86</td>\n",
       "      <td>28.6</td>\n",
       "      <td>30.48</td>\n",
       "      <td>6000</td>\n",
       "    </tr>\n",
       "    <tr>\n",
       "      <th>89463</th>\n",
       "      <td>37.57</td>\n",
       "      <td>37.69</td>\n",
       "      <td>37.59</td>\n",
       "      <td>37.75</td>\n",
       "      <td>37.63</td>\n",
       "      <td>37.95</td>\n",
       "      <td>37.97</td>\n",
       "      <td>35.88</td>\n",
       "      <td>35.86</td>\n",
       "      <td>29.4</td>\n",
       "      <td>30.31</td>\n",
       "      <td>1</td>\n",
       "    </tr>\n",
       "    <tr>\n",
       "      <th>...</th>\n",
       "      <td>...</td>\n",
       "      <td>...</td>\n",
       "      <td>...</td>\n",
       "      <td>...</td>\n",
       "      <td>...</td>\n",
       "      <td>...</td>\n",
       "      <td>...</td>\n",
       "      <td>...</td>\n",
       "      <td>...</td>\n",
       "      <td>...</td>\n",
       "      <td>...</td>\n",
       "      <td>...</td>\n",
       "    </tr>\n",
       "    <tr>\n",
       "      <th>59465</th>\n",
       "      <td>31.63</td>\n",
       "      <td>31.73</td>\n",
       "      <td>31.57</td>\n",
       "      <td>31.60</td>\n",
       "      <td>31.48</td>\n",
       "      <td>31.74</td>\n",
       "      <td>31.66</td>\n",
       "      <td>31.38</td>\n",
       "      <td>31.60</td>\n",
       "      <td>28.8</td>\n",
       "      <td>30.73</td>\n",
       "      <td>1</td>\n",
       "    </tr>\n",
       "    <tr>\n",
       "      <th>5520</th>\n",
       "      <td>37.44</td>\n",
       "      <td>37.56</td>\n",
       "      <td>37.48</td>\n",
       "      <td>37.62</td>\n",
       "      <td>37.49</td>\n",
       "      <td>37.81</td>\n",
       "      <td>37.84</td>\n",
       "      <td>35.66</td>\n",
       "      <td>35.70</td>\n",
       "      <td>29.1</td>\n",
       "      <td>30.04</td>\n",
       "      <td>1</td>\n",
       "    </tr>\n",
       "    <tr>\n",
       "      <th>20463</th>\n",
       "      <td>32.81</td>\n",
       "      <td>33.14</td>\n",
       "      <td>33.36</td>\n",
       "      <td>33.17</td>\n",
       "      <td>33.23</td>\n",
       "      <td>33.74</td>\n",
       "      <td>33.29</td>\n",
       "      <td>32.57</td>\n",
       "      <td>32.56</td>\n",
       "      <td>28.3</td>\n",
       "      <td>30.25</td>\n",
       "      <td>3000</td>\n",
       "    </tr>\n",
       "    <tr>\n",
       "      <th>18638</th>\n",
       "      <td>33.02</td>\n",
       "      <td>33.08</td>\n",
       "      <td>33.37</td>\n",
       "      <td>33.30</td>\n",
       "      <td>33.07</td>\n",
       "      <td>34.13</td>\n",
       "      <td>33.32</td>\n",
       "      <td>32.58</td>\n",
       "      <td>32.26</td>\n",
       "      <td>28.4</td>\n",
       "      <td>30.36</td>\n",
       "      <td>3000</td>\n",
       "    </tr>\n",
       "    <tr>\n",
       "      <th>35683</th>\n",
       "      <td>34.36</td>\n",
       "      <td>34.79</td>\n",
       "      <td>34.66</td>\n",
       "      <td>35.24</td>\n",
       "      <td>35.19</td>\n",
       "      <td>35.76</td>\n",
       "      <td>35.55</td>\n",
       "      <td>34.03</td>\n",
       "      <td>33.50</td>\n",
       "      <td>29.1</td>\n",
       "      <td>31.06</td>\n",
       "      <td>4000</td>\n",
       "    </tr>\n",
       "  </tbody>\n",
       "</table>\n",
       "<p>79936 rows × 12 columns</p>\n",
       "</div>"
      ],
      "text/plain": [
       "       Front Bearing D  Front Bearing C  Inner Housing Front  \\\n",
       "97411            31.17            31.27                31.11   \n",
       "86123            39.16            39.97                40.12   \n",
       "93418            32.44            32.55                32.40   \n",
       "66081            36.67            37.47                37.33   \n",
       "89463            37.57            37.69                37.59   \n",
       "...                ...              ...                  ...   \n",
       "59465            31.63            31.73                31.57   \n",
       "5520             37.44            37.56                37.48   \n",
       "20463            32.81            33.14                33.36   \n",
       "18638            33.02            33.08                33.37   \n",
       "35683            34.36            34.79                34.66   \n",
       "\n",
       "       Inner Housing Mid  Inner Housing Back  Back Bearing B  Back Bearing A  \\\n",
       "97411              31.14               31.03           31.27           31.19   \n",
       "86123              41.05               41.82           43.16           43.02   \n",
       "93418              32.47               32.35           32.61           32.55   \n",
       "66081              38.34               38.81           39.90           39.81   \n",
       "89463              37.75               37.63           37.95           37.97   \n",
       "...                  ...                 ...             ...             ...   \n",
       "59465              31.60               31.48           31.74           31.66   \n",
       "5520               37.62               37.49           37.81           37.84   \n",
       "20463              33.17               33.23           33.74           33.29   \n",
       "18638              33.30               33.07           34.13           33.32   \n",
       "35683              35.24               35.19           35.76           35.55   \n",
       "\n",
       "       HousingA  HousingB  Support  Room Temperature  Speed  \n",
       "97411     31.01     31.23     28.6             30.56      1  \n",
       "86123     39.37     36.44     29.7             31.68   7000  \n",
       "93418     31.90     32.04     28.5             30.10      1  \n",
       "66081     36.62     34.86     28.6             30.48   6000  \n",
       "89463     35.88     35.86     29.4             30.31      1  \n",
       "...         ...       ...      ...               ...    ...  \n",
       "59465     31.38     31.60     28.8             30.73      1  \n",
       "5520      35.66     35.70     29.1             30.04      1  \n",
       "20463     32.57     32.56     28.3             30.25   3000  \n",
       "18638     32.58     32.26     28.4             30.36   3000  \n",
       "35683     34.03     33.50     29.1             31.06   4000  \n",
       "\n",
       "[79936 rows x 12 columns]"
      ]
     },
     "execution_count": 49,
     "metadata": {},
     "output_type": "execute_result"
    }
   ],
   "source": [
    "import numpy as np\n",
    "# to make this notebook's output identical at every run\n",
    "np.random.seed(5)\n",
    "x=data2\n",
    "y=data.Deformation\n",
    "x_train,x_test,y_train,y_test=train_test_split(x,y,test_size=0.2)\n",
    "x_train"
   ]
  },
  {
   "cell_type": "code",
   "execution_count": 50,
   "metadata": {},
   "outputs": [
    {
     "data": {
      "text/plain": [
       "RandomForestRegressor(max_depth=5, max_features=5, min_samples_leaf=25,\n",
       "                      n_estimators=335, random_state=42)"
      ]
     },
     "execution_count": 50,
     "metadata": {},
     "output_type": "execute_result"
    }
   ],
   "source": [
    "from sklearn.ensemble import RandomForestRegressor\n",
    "model=RandomForestRegressor(n_estimators=335,criterion='mse', max_depth=5, min_samples_split=2, min_samples_leaf=25, max_features=5, random_state=42)\n",
    "model.fit(x_train,y_train)"
   ]
  },
  {
   "cell_type": "code",
   "execution_count": 51,
   "metadata": {},
   "outputs": [
    {
     "data": {
      "text/plain": [
       "array([12.17558147,  1.96812527,  1.55888111, ...,  1.64419989,\n",
       "        1.55040041,  1.55888111])"
      ]
     },
     "execution_count": 51,
     "metadata": {},
     "output_type": "execute_result"
    }
   ],
   "source": [
    "predict=model.fit(x_train,y_train).predict(x_test)\n",
    "predict"
   ]
  },
  {
   "cell_type": "code",
   "execution_count": 52,
   "metadata": {},
   "outputs": [
    {
     "name": "stdout",
     "output_type": "stream",
     "text": [
      "2.476393727839103\n"
     ]
    }
   ],
   "source": [
    "from sklearn.metrics import mean_squared_error\n",
    "\n",
    "from math import sqrt\n",
    "\n",
    "rmse = sqrt(mean_squared_error(y_test,predict))\n",
    "\n",
    "print(rmse)\n",
    "\n"
   ]
  },
  {
   "cell_type": "code",
   "execution_count": 53,
   "metadata": {},
   "outputs": [
    {
     "data": {
      "text/plain": [
       "<function matplotlib.pyplot.show(*args, **kw)>"
      ]
     },
     "execution_count": 53,
     "metadata": {},
     "output_type": "execute_result"
    },
    {
     "data": {
      "image/png": "[encoded data removed]",
      "text/plain": [
       "<Figure size 432x288 with 1 Axes>"
      ]
     },
     "metadata": {
      "needs_background": "light"
     },
     "output_type": "display_data"
    }
   ],
   "source": [
    "imp=model.feature_importances_\n",
    "imp\n",
    "import matplotlib.pyplot as plt\n",
    "%matplotlib inline\n",
    "names=data2.columns\n",
    "zip(imp,names)\n",
    "imp,names=zip(*sorted(zip(imp,names)))\n",
    "plt.barh(range(len(names)),imp,align='center',color=\"red\")\n",
    "plt.yticks(range(len(names)),names)\n",
    "plt.xlabel('Importance of Features')\n",
    "plt.ylabel('Features')\n",
    "plt.title('Importance of each Features')\n",
    "plt.show"
   ]
  },
  {
   "cell_type": "code",
   "execution_count": 54,
   "metadata": {},
   "outputs": [
    {
     "data": {
      "text/plain": [
       "0.9201395647338206"
      ]
     },
     "execution_count": 54,
     "metadata": {},
     "output_type": "execute_result"
    }
   ],
   "source": [
    "model.score(x_test,y_test)"
   ]
  },
  {
   "cell_type": "code",
   "execution_count": 55,
   "metadata": {},
   "outputs": [
    {
     "data": {
      "text/plain": [
       "0.920724577563956"
      ]
     },
     "execution_count": 55,
     "metadata": {},
     "output_type": "execute_result"
    }
   ],
   "source": [
    "model.score(x_train,y_train)"
   ]
  },
  {
   "cell_type": "code",
   "execution_count": 56,
   "metadata": {},
   "outputs": [],
   "source": [
    "import pandas as pd\n",
    "data_x= pd.read_csv(\"Data_random.csv\")\n",
    "data_n=pd.read_csv(\"Data_random.csv\",usecols=[0,1,2,3,4,5,6,7,8,9,10,12])"
   ]
  },
  {
   "cell_type": "code",
   "execution_count": 59,
   "metadata": {},
   "outputs": [],
   "source": [
    "import numpy as np\n",
    "# to make this notebook's output identical at every run\n",
    "np.random.seed(8)\n",
    "x=data2\n",
    "y=data.Deformation\n",
    "x_train_1,x_test_1,y_train_1,y_test_1=train_test_split(x,y,test_size=0.2)"
   ]
  },
  {
   "cell_type": "code",
   "execution_count": 60,
   "metadata": {},
   "outputs": [
    {
     "data": {
      "text/plain": [
       "0.9205263507825309"
      ]
     },
     "execution_count": 60,
     "metadata": {},
     "output_type": "execute_result"
    }
   ],
   "source": [
    "model.score(x_test_1,y_test_1)"
   ]
  },
  {
   "cell_type": "code",
   "execution_count": null,
   "metadata": {},
   "outputs": [],
   "source": [
    "X_new = [[30.67,30.31,30.09,30.33,30.04,30.24,30.5,30.35,30.35,28.3,30.03,3000]]  # Cyprus' GDP per capita\n",
    "print(rfc.predict(X_new))"
   ]
  }
 ],
 "metadata": {
  "kernelspec": {
   "display_name": "Python 3",
   "language": "python",
   "name": "python3"
  },
  "language_info": {
   "codemirror_mode": {
    "name": "ipython",
    "version": 3
   },
   "file_extension": ".py",
   "mimetype": "text/x-python",
   "name": "python",
   "nbconvert_exporter": "python",
   "pygments_lexer": "ipython3",
   "version": "3.8.3"
  }
 },
 "nbformat": 4,
 "nbformat_minor": 4
}
